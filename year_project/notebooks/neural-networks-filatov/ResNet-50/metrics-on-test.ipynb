{
 "cells": [
  {
   "cell_type": "code",
   "execution_count": 1,
   "id": "a4060d1b",
   "metadata": {
    "_cell_guid": "b1076dfc-b9ad-4769-8c92-a6c4dae69d19",
    "_uuid": "8f2839f25d086af736a60e9eeb907d3b93b6e0e5",
    "execution": {
     "iopub.execute_input": "2024-05-21T12:27:06.166620Z",
     "iopub.status.busy": "2024-05-21T12:27:06.166202Z",
     "iopub.status.idle": "2024-05-21T12:27:14.794006Z",
     "shell.execute_reply": "2024-05-21T12:27:14.792734Z"
    },
    "papermill": {
     "duration": 8.637948,
     "end_time": "2024-05-21T12:27:14.796972",
     "exception": false,
     "start_time": "2024-05-21T12:27:06.159024",
     "status": "completed"
    },
    "tags": []
   },
   "outputs": [],
   "source": [
    "import torch\n",
    "from torch import nn\n",
    "from torch.utils.data import Dataset\n",
    "from torch.utils.data import DataLoader \n",
    " \n",
    "from torchvision import datasets\n",
    "from torchvision import transforms\n",
    "from torchvision.io import read_image\n",
    "from torchvision.transforms import ToTensor\n",
    "\n",
    "import numpy as np\n",
    "import pandas as pd\n",
    "import matplotlib.pyplot as plt\n",
    "from tqdm import tqdm\n",
    "\n",
    "import warnings\n",
    "warnings.filterwarnings('ignore')\n",
    "from IPython.display import clear_output"
   ]
  },
  {
   "cell_type": "markdown",
   "id": "dbe80dfc",
   "metadata": {
    "execution": {
     "iopub.execute_input": "2024-04-12T08:28:09.817725Z",
     "iopub.status.busy": "2024-04-12T08:28:09.817295Z",
     "iopub.status.idle": "2024-04-12T08:28:09.825945Z",
     "shell.execute_reply": "2024-04-12T08:28:09.82419Z",
     "shell.execute_reply.started": "2024-04-12T08:28:09.817697Z"
    },
    "papermill": {
     "duration": 0.004791,
     "end_time": "2024-05-21T12:27:14.807270",
     "exception": false,
     "start_time": "2024-05-21T12:27:14.802479",
     "status": "completed"
    },
    "tags": []
   },
   "source": [
    "**Преобразуем тестовую выборку**"
   ]
  },
  {
   "cell_type": "code",
   "execution_count": 2,
   "id": "4e7e5766",
   "metadata": {
    "execution": {
     "iopub.execute_input": "2024-05-21T12:27:14.819757Z",
     "iopub.status.busy": "2024-05-21T12:27:14.818986Z",
     "iopub.status.idle": "2024-05-21T12:27:14.828458Z",
     "shell.execute_reply": "2024-05-21T12:27:14.827200Z"
    },
    "papermill": {
     "duration": 0.018658,
     "end_time": "2024-05-21T12:27:14.831024",
     "exception": false,
     "start_time": "2024-05-21T12:27:14.812366",
     "status": "completed"
    },
    "tags": []
   },
   "outputs": [],
   "source": [
    "class MedicalImageDataset(Dataset):\n",
    "    def __init__(self, img_dir, data='train', transform=None):\n",
    "        super().__init__()\n",
    "        self.img_dir = img_dir,\n",
    "        self.data = data\n",
    "        self.labels = torch.load(f'{img_dir}/{data}/labels.pt')\n",
    "        self.transform = transform\n",
    "\n",
    "    def __len__(self):\n",
    "        return len(self.labels)\n",
    "\n",
    "    def __getitem__(self, idx): \n",
    "        image = read_image(f'{self.img_dir[0]}/{self.data}/images/image({idx}).jpg') / 255\n",
    "        if self.transform:\n",
    "            image = self.transform(image)\n",
    "            \n",
    "        return (image, self.labels[idx])"
   ]
  },
  {
   "cell_type": "code",
   "execution_count": 3,
   "id": "7ccc0446",
   "metadata": {
    "execution": {
     "iopub.execute_input": "2024-05-21T12:27:14.843793Z",
     "iopub.status.busy": "2024-05-21T12:27:14.843385Z",
     "iopub.status.idle": "2024-05-21T12:27:14.896655Z",
     "shell.execute_reply": "2024-05-21T12:27:14.895393Z"
    },
    "papermill": {
     "duration": 0.063074,
     "end_time": "2024-05-21T12:27:14.899651",
     "exception": false,
     "start_time": "2024-05-21T12:27:14.836577",
     "status": "completed"
    },
    "tags": []
   },
   "outputs": [],
   "source": [
    "preprocess = transforms.Compose([\n",
    "    transforms.Resize(256),\n",
    "    transforms.CenterCrop(224),\n",
    "    transforms.Normalize(mean=[0.485, 0.456, 0.406], std=[0.229, 0.224, 0.225]),\n",
    "])\n",
    "\n",
    "test_dataset = MedicalImageDataset(\n",
    "    img_dir=f'../input/image-preprocessing-to-nn',\n",
    "    data='test', \n",
    "    transform=preprocess\n",
    ")"
   ]
  },
  {
   "cell_type": "code",
   "execution_count": 4,
   "id": "7718b44a",
   "metadata": {
    "execution": {
     "iopub.execute_input": "2024-05-21T12:27:14.912214Z",
     "iopub.status.busy": "2024-05-21T12:27:14.911721Z",
     "iopub.status.idle": "2024-05-21T12:27:16.291388Z",
     "shell.execute_reply": "2024-05-21T12:27:16.289875Z"
    },
    "papermill": {
     "duration": 1.390536,
     "end_time": "2024-05-21T12:27:16.295367",
     "exception": false,
     "start_time": "2024-05-21T12:27:14.904831",
     "status": "completed"
    },
    "tags": []
   },
   "outputs": [
    {
     "name": "stdout",
     "output_type": "stream",
     "text": [
      "Shape of X [N, C, H, W]: torch.Size([64, 3, 224, 224])\n",
      "Shape of y: torch.Size([64]) torch.float32\n"
     ]
    }
   ],
   "source": [
    "BATCH_SIZE = 64\n",
    "\n",
    "test_dataloader = DataLoader(test_dataset, batch_size=BATCH_SIZE, shuffle=False)\n",
    "\n",
    "for X, y in test_dataloader:\n",
    "    print(f\"Shape of X [N, C, H, W]: {X.shape}\")\n",
    "    print(f\"Shape of y: {y.shape} {y.dtype}\")\n",
    "    break"
   ]
  },
  {
   "cell_type": "markdown",
   "id": "3e3448a9",
   "metadata": {
    "papermill": {
     "duration": 0.005125,
     "end_time": "2024-05-21T12:27:16.306586",
     "exception": false,
     "start_time": "2024-05-21T12:27:16.301461",
     "status": "completed"
    },
    "tags": []
   },
   "source": [
    "**Функция вывода метрик на тестовой выборке**"
   ]
  },
  {
   "cell_type": "code",
   "execution_count": 5,
   "id": "1fd12088",
   "metadata": {
    "execution": {
     "iopub.execute_input": "2024-05-21T12:27:16.320016Z",
     "iopub.status.busy": "2024-05-21T12:27:16.319104Z",
     "iopub.status.idle": "2024-05-21T12:27:19.386435Z",
     "shell.execute_reply": "2024-05-21T12:27:19.384919Z"
    },
    "papermill": {
     "duration": 3.077734,
     "end_time": "2024-05-21T12:27:19.389737",
     "exception": false,
     "start_time": "2024-05-21T12:27:16.312003",
     "status": "completed"
    },
    "tags": []
   },
   "outputs": [],
   "source": [
    "from torchmetrics import Accuracy, Precision, Recall, F1Score, AUROC, AveragePrecision\n",
    "\n",
    "torch.manual_seed(123)\n",
    "\n",
    "\n",
    "def test_metrics(dataloader, model, task='multiclass', num_classes=23):\n",
    "    model.eval()\n",
    "    size = len(dataloader.dataset)\n",
    "    \n",
    "    # микро-усреднение\n",
    "    metrics_accuracy_micro = Accuracy(task=task, num_classes=num_classes, average='micro')\n",
    "    metrics_precision_micro = Precision(task=task, num_classes=num_classes, average='micro')\n",
    "    metrics_recall_micro = Recall(task=task, num_classes=num_classes, average='micro')\n",
    "    metrics_f1score_micro = F1Score(task=task, num_classes=num_classes, average='micro')\n",
    "#     metrics_aucroc_micro = AUROC(task=task, num_classes=num_classes, average='micro')\n",
    "#     metrics_aucpr_micro = AveragePrecision(task=task, num_classes=num_classes, average='micro')\n",
    "    \n",
    "    # макро-усреднение\n",
    "    metrics_accuracy_macro = Accuracy(task=task, num_classes=num_classes, average='macro')\n",
    "    metrics_precision_macro = Precision(task=task, num_classes=num_classes, average='macro')\n",
    "    metrics_recall_macro = Recall(task=task, num_classes=num_classes, average='macro')\n",
    "    metrics_f1score_macro = F1Score(task=task, num_classes=num_classes, average='macro')\n",
    "    metrics_aucroc_macro = AUROC(task=task, num_classes=num_classes, average='macro')\n",
    "    metric_aucpr_macro = AveragePrecision(task=task, num_classes=num_classes, average='macro')\n",
    "    \n",
    "    with torch.no_grad():\n",
    "#         pbar = tqdm(dataloader)\n",
    "        for X_batch, y_batch in dataloader:\n",
    "            predictions = model(X_batch)\n",
    "            \n",
    "            # микро-усреднение\n",
    "            accuracy_micro = metrics_accuracy_micro(predictions, y_batch)\n",
    "            precision_micro = metrics_precision_micro(predictions, y_batch)\n",
    "            recall_micro = metrics_recall_micro(predictions, y_batch)\n",
    "            f1score_micro = metrics_f1score_micro(predictions, y_batch)\n",
    "#             aucroc_micro = metrics_aucroc_micro(predictions, y_batch.int())\n",
    "#             aucpr_micro = metric_aucpr_micro(predictions, y_batch)\n",
    "            \n",
    "            # макро-усреднение\n",
    "            accuracy_mаcro = metrics_accuracy_macro(predictions, y_batch)\n",
    "            aucroc_mаcro = metrics_aucroc_macro(predictions, y_batch.int())\n",
    "            precision_mаcro = metrics_precision_macro(predictions, y_batch)\n",
    "            recall_mаcro = metrics_recall_macro(predictions, y_batch)\n",
    "            f1score_macro = metrics_f1score_macro(predictions, y_batch)\n",
    "            aucpr_macro = metric_aucpr_macro(predictions, y_batch.int())\n",
    "            \n",
    "        # микро-усреднение\n",
    "        accuracy_micro = metrics_accuracy_micro.compute()\n",
    "        precision_micro = metrics_precision_micro.compute()\n",
    "        recall_micro = metrics_recall_micro.compute()\n",
    "        f1score_micro = metrics_f1score_micro.compute()\n",
    "#         aucroc_micro = metrics_aucroc_micro.compute()\n",
    "#         aucpr_micro = metric_aucpr_micro.compute()\n",
    "        \n",
    "        # макро-усреднение\n",
    "        accuracy_macro = metrics_accuracy_macro.compute()\n",
    "        aucroc_macro = metrics_aucroc_macro.compute()\n",
    "        precision_macro = metrics_precision_macro.compute()\n",
    "        recall_macro = metrics_recall_macro.compute()\n",
    "        f1score_macro = metrics_f1score_macro.compute()\n",
    "        aucpr_macro = metric_aucpr_macro.compute()\n",
    "        \n",
    "        print(f'Result metrics for test dataset')\n",
    "        # микро-усреднение\n",
    "        print(f'\\n>>> Average - MICRO')\n",
    "        print(f'\\tAccuracy:  {accuracy_micro:.2f}')\n",
    "        print(f'\\tPrecision: {precision_micro:.2f}')\n",
    "        print(f'\\tRecall:    {recall_micro:.2f}')\n",
    "        print(f'\\tF1 Score:  {f1score_micro:.2f}')\n",
    "#         print(f'\\tAUC-ROC:   {aucroc_micro:.2f}')\n",
    "#         print(f'\\tAUC-PR:    {aucpr_micro:.2f}')\n",
    "        \n",
    "        # макро-усреднение\n",
    "        print(f'\\n>>> Average - MACRO')\n",
    "        print(f'\\tAccuracy:  {accuracy_macro:.2f}')\n",
    "        print(f'\\tPrecision: {precision_macro:.2f}')\n",
    "        print(f'\\tRecall:    {recall_macro:.2f}')\n",
    "        print(f'\\tF1 Score:  {f1score_macro:.2f}')\n",
    "        print(f'\\tAUC-ROC:   {aucroc_macro:.2f}')\n",
    "        print(f'\\tAUC-PR:    {aucpr_macro:.2f}')"
   ]
  },
  {
   "cell_type": "markdown",
   "id": "69db720a",
   "metadata": {
    "papermill": {
     "duration": 0.005236,
     "end_time": "2024-05-21T12:27:19.400564",
     "exception": false,
     "start_time": "2024-05-21T12:27:19.395328",
     "status": "completed"
    },
    "tags": []
   },
   "source": [
    "**Смотрим метрики**"
   ]
  },
  {
   "cell_type": "code",
   "execution_count": 6,
   "id": "0b6acb8b",
   "metadata": {
    "execution": {
     "iopub.execute_input": "2024-05-21T12:27:19.412772Z",
     "iopub.status.busy": "2024-05-21T12:27:19.412377Z",
     "iopub.status.idle": "2024-05-21T12:27:19.417584Z",
     "shell.execute_reply": "2024-05-21T12:27:19.416253Z"
    },
    "papermill": {
     "duration": 0.014101,
     "end_time": "2024-05-21T12:27:19.419872",
     "exception": false,
     "start_time": "2024-05-21T12:27:19.405771",
     "status": "completed"
    },
    "tags": []
   },
   "outputs": [],
   "source": [
    "from torchvision.models import resnet50"
   ]
  },
  {
   "cell_type": "markdown",
   "id": "ee402a3f",
   "metadata": {
    "papermill": {
     "duration": 0.004799,
     "end_time": "2024-05-21T12:27:19.429875",
     "exception": false,
     "start_time": "2024-05-21T12:27:19.425076",
     "status": "completed"
    },
    "tags": []
   },
   "source": [
    "**Model ResNet-50 with Adam (lr=3e-4)**"
   ]
  },
  {
   "cell_type": "code",
   "execution_count": 7,
   "id": "500cfa2f",
   "metadata": {
    "execution": {
     "iopub.execute_input": "2024-05-21T12:27:19.441610Z",
     "iopub.status.busy": "2024-05-21T12:27:19.441234Z",
     "iopub.status.idle": "2024-05-21T12:39:01.861112Z",
     "shell.execute_reply": "2024-05-21T12:39:01.859493Z"
    },
    "papermill": {
     "duration": 702.43375,
     "end_time": "2024-05-21T12:39:01.868670",
     "exception": false,
     "start_time": "2024-05-21T12:27:19.434920",
     "status": "completed"
    },
    "tags": []
   },
   "outputs": [
    {
     "name": "stdout",
     "output_type": "stream",
     "text": [
      "Result metrics for test dataset\n",
      "\n",
      ">>> Average - MICRO\n",
      "\tAccuracy:  0.61\n",
      "\tPrecision: 0.61\n",
      "\tRecall:    0.61\n",
      "\tF1 Score:  0.61\n",
      "\n",
      ">>> Average - MACRO\n",
      "\tAccuracy:  0.59\n",
      "\tPrecision: 0.58\n",
      "\tRecall:    0.59\n",
      "\tF1 Score:  0.58\n",
      "\tAUC-ROC:   0.94\n",
      "\tAUC-PR:    0.62\n"
     ]
    }
   ],
   "source": [
    "model_adam = resnet50()\n",
    "model_adam.fc = nn.Linear(2048, 23)\n",
    "\n",
    "model_path = '../input/resnet-50-for-dermnet/pytorch/adam-3e-4-epochs-30/1/model-Adam-3e-4-epochs-30.pth'\n",
    "model_adam.load_state_dict(torch.load(model_path, map_location='cpu'));\n",
    "\n",
    "test_metrics(test_dataloader, model_adam)"
   ]
  },
  {
   "cell_type": "markdown",
   "id": "b1cb75a0",
   "metadata": {
    "papermill": {
     "duration": 0.005017,
     "end_time": "2024-05-21T12:39:01.879563",
     "exception": false,
     "start_time": "2024-05-21T12:39:01.874546",
     "status": "completed"
    },
    "tags": []
   },
   "source": [
    "**Model ResNet-50 with RMSprop (lr=1e-4, momentum=0.9)** "
   ]
  },
  {
   "cell_type": "code",
   "execution_count": 8,
   "id": "eeb5cf0b",
   "metadata": {
    "execution": {
     "iopub.execute_input": "2024-05-21T12:39:01.892955Z",
     "iopub.status.busy": "2024-05-21T12:39:01.892569Z",
     "iopub.status.idle": "2024-05-21T12:49:55.060441Z",
     "shell.execute_reply": "2024-05-21T12:49:55.059077Z"
    },
    "papermill": {
     "duration": 653.183577,
     "end_time": "2024-05-21T12:49:55.068974",
     "exception": false,
     "start_time": "2024-05-21T12:39:01.885397",
     "status": "completed"
    },
    "tags": []
   },
   "outputs": [
    {
     "name": "stdout",
     "output_type": "stream",
     "text": [
      "Result metrics for test dataset\n",
      "\n",
      ">>> Average - MICRO\n",
      "\tAccuracy:  0.52\n",
      "\tPrecision: 0.52\n",
      "\tRecall:    0.52\n",
      "\tF1 Score:  0.52\n",
      "\n",
      ">>> Average - MACRO\n",
      "\tAccuracy:  0.47\n",
      "\tPrecision: 0.50\n",
      "\tRecall:    0.47\n",
      "\tF1 Score:  0.47\n",
      "\tAUC-ROC:   0.91\n",
      "\tAUC-PR:    0.50\n"
     ]
    }
   ],
   "source": [
    "model_rms = resnet50()\n",
    "model_rms.fc = nn.Linear(2048, 23)\n",
    "\n",
    "model_path = '../input/resnet-50-for-dermnet/pytorch/rmsprop-1e-4-epochs-30/1/model-RMSprop-1e-4-epochs-30.pth'\n",
    "model_rms.load_state_dict(torch.load(model_path, map_location='cpu'));\n",
    "\n",
    "test_metrics(test_dataloader, model_rms)"
   ]
  }
 ],
 "metadata": {
  "kaggle": {
   "accelerator": "none",
   "dataSources": [
    {
     "sourceId": 178362980,
     "sourceType": "kernelVersion"
    },
    {
     "isSourceIdPinned": true,
     "modelInstanceId": 44472,
     "sourceId": 52975,
     "sourceType": "modelInstanceVersion"
    },
    {
     "isSourceIdPinned": true,
     "modelInstanceId": 44473,
     "sourceId": 52976,
     "sourceType": "modelInstanceVersion"
    }
   ],
   "dockerImageVersionId": 30699,
   "isGpuEnabled": false,
   "isInternetEnabled": true,
   "language": "python",
   "sourceType": "notebook"
  },
  "kernelspec": {
   "display_name": "Python 3",
   "language": "python",
   "name": "python3"
  },
  "language_info": {
   "codemirror_mode": {
    "name": "ipython",
    "version": 3
   },
   "file_extension": ".py",
   "mimetype": "text/x-python",
   "name": "python",
   "nbconvert_exporter": "python",
   "pygments_lexer": "ipython3",
   "version": "3.10.13"
  },
  "papermill": {
   "default_parameters": {},
   "duration": 1373.732602,
   "end_time": "2024-05-21T12:49:56.605379",
   "environment_variables": {},
   "exception": null,
   "input_path": "__notebook__.ipynb",
   "output_path": "__notebook__.ipynb",
   "parameters": {},
   "start_time": "2024-05-21T12:27:02.872777",
   "version": "2.5.0"
  }
 },
 "nbformat": 4,
 "nbformat_minor": 5
}
