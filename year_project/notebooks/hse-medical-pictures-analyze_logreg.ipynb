{
 "cells": [
  {
   "cell_type": "markdown",
   "id": "24a7a94c",
   "metadata": {},
   "source": [
    "## Логистическая регрессия"
   ]
  },
  {
   "cell_type": "code",
   "execution_count": null,
   "id": "cfdae9c9",
   "metadata": {},
   "outputs": [],
   "source": [
    "import os\n",
    "import numpy as np\n",
    "import pandas as pd\n",
    "from matplotlib import pyplot as plt\n",
    "\n",
    "from torchvision.transforms import v2\n",
    "from PIL import Image, ImageOps\n",
    "\n",
    "import albumentations as A"
   ]
  },
  {
   "cell_type": "markdown",
   "id": "c3130fd3",
   "metadata": {},
   "source": [
    "**Предобработка изображений**"
   ]
  },
  {
   "cell_type": "code",
   "execution_count": null,
   "id": "f5eeb5d1",
   "metadata": {},
   "outputs": [],
   "source": [
    "from sklearn.decomposition import PCA\n",
    "\n",
    "def load_images(data='train', pca_components=100):\n",
    "    path = f\"dataset/{data}/\"\n",
    "    list_cat = os.listdir(path)\n",
    "    \n",
    "    X, y = ([], [])\n",
    "    \n",
    "    transform = A.Compose([\n",
    "    A.Rotate(limit=180, p=1.0),\n",
    "    A.GaussNoise(p=0.5), \n",
    "    A.RandomBrightnessContrast(p=0.25),\n",
    "    ])\n",
    "\n",
    "    for i, cat in enumerate(list_cat):        \n",
    "        list_images = os.listdir(path + cat)\n",
    "        \n",
    "        for j in list_images:          \n",
    "            with Image.open(path + cat + \"/\" + j) as img:\n",
    "                # приводим изображения к чёрно-белому формату и одному размеру\n",
    "                img = np.array(v2.Resize(size=(256, 256))(ImageOps.grayscale(img)))\n",
    "                \n",
    "                for p in range(5): \n",
    "                    # применяем аугментации 4 раза \n",
    "                    if p:\n",
    "                        img = transform(image=img)[\"image\"]\n",
    "                    \n",
    "                    # применяем PCA с pca_components главными компонентами\n",
    "                    pca = PCA(pca_components)\n",
    "                    img_pca = pca.fit_transform(img)\n",
    "                \n",
    "                    # вытягиваем в одномерный массив и добавляем в матрицу объекты-признаки\n",
    "                    X.append(img_pca.flatten())\n",
    "                    y.append(i)\n",
    "    \n",
    "    return np.array(X), np.array(y)\n",
    "\n",
    "\n",
    "X_train, y_train = load_images(data='train', pca_components=75)\n",
    "X_test, y_test = load_images(data='test', pca_components=75)"
   ]
  },
  {
   "cell_type": "markdown",
   "id": "c65c732b",
   "metadata": {},
   "source": [
    "**Обучение модели**"
   ]
  },
  {
   "cell_type": "code",
   "execution_count": null,
   "id": "66885cc8",
   "metadata": {},
   "outputs": [],
   "source": [
    "from sklearn.linear_model import LogisticRegression\n",
    "from sklearn.metrics import accuracy_score, precision_score, recall_score, f1_score\n",
    "from sklearn.metrics import roc_auc_score, average_precision_score\n",
    "\n",
    "# модель\n",
    "model = LogisticRegression(tol=1e-2, max_iter=1000, random_state=123)\n",
    "model.fit(X_train, y_train)\n",
    "y_pred_test = model.predict(X_test)\n",
    "\n",
    "# результаты \n",
    "print(f'accuracy: {accuracy_score(y_test, y_pred_test):.4f}')"
   ]
  }
 ],
 "metadata": {
  "kernelspec": {
   "display_name": "Python 3 (ipykernel)",
   "language": "python",
   "name": "python3"
  },
  "language_info": {
   "codemirror_mode": {
    "name": "ipython",
    "version": 3
   },
   "file_extension": ".py",
   "mimetype": "text/x-python",
   "name": "python",
   "nbconvert_exporter": "python",
   "pygments_lexer": "ipython3",
   "version": "3.10.12"
  }
 },
 "nbformat": 4,
 "nbformat_minor": 5
}
