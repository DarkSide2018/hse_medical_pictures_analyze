{
 "cells": [
  {
   "cell_type": "code",
   "execution_count": 14,
   "id": "initial_id",
   "metadata": {
    "collapsed": true,
    "ExecuteTime": {
     "end_time": "2024-02-21T06:09:20.360783514Z",
     "start_time": "2024-02-21T06:09:20.317800046Z"
    }
   },
   "outputs": [],
   "source": [
    "import concurrent.futures\n",
    "import os\n",
    "from tqdm.auto import tqdm\n",
    "import io\n",
    "import numpy as np\n",
    "import torchvision\n",
    "import pandas as pd\n",
    "\n",
    "from torch import nn, optim\n",
    "import psycopg2\n",
    "from IPython.display import clear_output\n",
    "from pandas import DataFrame\n",
    "from sqlalchemy import create_engine\n",
    "import requests\n",
    "from PIL import Image\n",
    "import torch\n",
    "from torch.utils.data import Dataset\n",
    "from matplotlib import pyplot as plt\n",
    "from torchvision import transforms"
   ]
  },
  {
   "cell_type": "code",
   "outputs": [],
   "source": [
    "torch.cuda.empty_cache()\n",
    "\n",
    "#device = \"cuda\" if torch.cuda.is_available() else \"cpu\"\n",
    "device = \"cpu\""
   ],
   "metadata": {
    "collapsed": false,
    "ExecuteTime": {
     "end_time": "2024-02-21T06:09:20.683056367Z",
     "start_time": "2024-02-21T06:09:20.680327977Z"
    }
   },
   "id": "10f98555dd0f054c",
   "execution_count": 15
  },
  {
   "cell_type": "code",
   "outputs": [],
   "source": [
    "# image = Image.open(io.BytesIO(data_postgres[0][9]))\n",
    "# \n",
    "# # Display the image using Matplotlib\n",
    "# plt.imshow(image)\n",
    "# plt.axis('off')  # Optional: Turn off axis\n",
    "# plt.show()"
   ],
   "metadata": {
    "collapsed": false,
    "ExecuteTime": {
     "end_time": "2024-02-21T06:09:21.092551502Z",
     "start_time": "2024-02-21T06:09:21.090644729Z"
    }
   },
   "id": "256b3cc1b83df425",
   "execution_count": 16
  },
  {
   "cell_type": "code",
   "outputs": [],
   "source": [
    "transformation = transforms.Compose(\n",
    "    [    \n",
    "        transforms.RandomRotation(20),\n",
    "        transforms.ToTensor(),\n",
    "        transforms.Normalize((0.4914, 0.4822, 0.4465), (0.247, 0.243, 0.261)),\n",
    "    ]\n",
    ")\n",
    "\n",
    "base_transform = torchvision.transforms.Compose(\n",
    "    [\n",
    "        transforms.ToTensor(),\n",
    "        transforms.Normalize((0.4914, 0.4822, 0.4465), (0.247, 0.243, 0.261)),\n",
    "    ]\n",
    ")"
   ],
   "metadata": {
    "collapsed": false,
    "ExecuteTime": {
     "end_time": "2024-02-21T06:09:21.485586699Z",
     "start_time": "2024-02-21T06:09:21.482281241Z"
    }
   },
   "id": "5ad9e8770f1ea980",
   "execution_count": 17
  },
  {
   "cell_type": "code",
   "outputs": [],
   "source": [
    "def matplotlib_imshow(img, one_channel=False):\n",
    "    if one_channel:\n",
    "        img = img.mean(dim=0)\n",
    "    img = img / 2 + 0.5\n",
    "    npimg = img.numpy()\n",
    "    if one_channel:\n",
    "        plt.imshow(npimg, cmap=\"Greys\")\n",
    "    else:\n",
    "        plt.imshow(np.transpose(npimg, (1, 2, 0)))\n",
    "        \n",
    "        \n",
    "        \n",
    "        \n",
    "\n",
    "def plot_history(train_history, val_history, title=\"loss\"):\n",
    "    plt.figure()\n",
    "    plt.title(title)\n",
    "    plt.plot(train_history, label=\"train\", zorder=1)\n",
    "\n",
    "    points = np.array(val_history)\n",
    "    steps = list(\n",
    "        range(0, len(train_history) + 1, int(len(train_history) / len(val_history)))\n",
    "    )[1:]\n",
    "\n",
    "    plt.scatter(\n",
    "        steps, val_history, marker=\"+\", s=180, c=\"orange\", label=\"val\", zorder=2\n",
    "    )\n",
    "    plt.xlabel(\"train steps\")\n",
    "\n",
    "    plt.legend(loc=\"best\")\n",
    "    plt.grid()\n",
    "\n",
    "    plt.show()"
   ],
   "metadata": {
    "collapsed": false,
    "ExecuteTime": {
     "end_time": "2024-02-21T06:09:21.904247879Z",
     "start_time": "2024-02-21T06:09:21.902180147Z"
    }
   },
   "id": "d59d8e2419a0fdb1",
   "execution_count": 18
  },
  {
   "cell_type": "code",
   "outputs": [],
   "source": [
    "class CustomDataset(Dataset):\n",
    "    def __init__(self, data, labels, transform=None):\n",
    "        self.data = data\n",
    "        self.labels = labels\n",
    "        self.transform = transform\n",
    "    def __getitem__(self, index):\n",
    "        img = self.data[index]\n",
    "        if self.transform:\n",
    "            img = self.transform(img)\n",
    "        label = self.labels[index]\n",
    "        return img, label\n",
    "\n",
    "    def __len__(self):\n",
    "        return len(self.data)"
   ],
   "metadata": {
    "collapsed": false,
    "ExecuteTime": {
     "end_time": "2024-02-21T06:09:22.333534228Z",
     "start_time": "2024-02-21T06:09:22.330343110Z"
    }
   },
   "id": "8d374c01261c35c4",
   "execution_count": 19
  },
  {
   "cell_type": "code",
   "outputs": [],
   "source": [
    "\n",
    "def train(model, criterion, optimizer, train_dataloader, val_dataloader, n_epochs=5):\n",
    "    train_loss_log, train_acc_log, val_loss_log, val_acc_log = [], [], [], []\n",
    "\n",
    "    for epoch in range(n_epochs):\n",
    "        # тренировка\n",
    "        train_epoch_loss, train_epoch_true_hits = torch.empty(0), torch.empty(0)\n",
    "        model.train()\n",
    "        for imgs, labels in tqdm(\n",
    "                train_dataloader, desc=f\"Training, epoch {epoch}\", leave=False\n",
    "        ):\n",
    "            imgs, labels = imgs.to(device), labels.to(device)\n",
    "\n",
    "            y_pred = model(imgs)\n",
    "            loss = criterion(y_pred, labels)\n",
    "            loss.backward()\n",
    "            optimizer.step()\n",
    "            optimizer.zero_grad()\n",
    "\n",
    "            # log loss for the current epoch and the whole training history\n",
    "            train_epoch_loss = torch.cat(\n",
    "                (train_epoch_loss, loss.cpu().unsqueeze(0) / labels.cpu().size(0))\n",
    "            )\n",
    "            train_loss_log.append(loss.cpu().data / labels.cpu().size(0))\n",
    "\n",
    "            # log accuracy for the current epoch and the whole training history\n",
    "            pred_classes = torch.argmax(y_pred.cpu(), dim=-1)\n",
    "            train_epoch_true_hits = torch.cat(\n",
    "                (\n",
    "                    train_epoch_true_hits,\n",
    "                    (pred_classes == labels.cpu()).sum().unsqueeze(0),\n",
    "                )\n",
    "            )\n",
    "            train_acc_log.append(\n",
    "                (pred_classes == labels.cpu()).sum() / labels.cpu().shape[0]\n",
    "            )\n",
    "\n",
    "        # валидация\n",
    "        val_epoch_loss, val_epoch_true_hits = torch.empty(0), torch.empty(0)\n",
    "        model.eval()\n",
    "        with torch.no_grad():\n",
    "            for imgs, labels in tqdm(\n",
    "                    val_dataloader, desc=f\"Validating, epoch {epoch}\", leave=False\n",
    "            ):\n",
    "                imgs, labels = imgs.to(device), labels.to(device)\n",
    "\n",
    "                y_pred = model(imgs)\n",
    "                loss = criterion(y_pred, labels)\n",
    "                val_epoch_loss = torch.cat(\n",
    "                    (val_epoch_loss, loss.cpu().unsqueeze(0) / labels.cpu().size(0))\n",
    "                )\n",
    "\n",
    "                pred_classes = torch.argmax(y_pred.cpu(), dim=-1)\n",
    "                val_epoch_true_hits = torch.cat(\n",
    "                    (\n",
    "                        val_epoch_true_hits,\n",
    "                        (pred_classes == labels.cpu()).sum().unsqueeze(0),\n",
    "                    )\n",
    "                )\n",
    "\n",
    "        val_loss_log.append(val_epoch_loss.mean())\n",
    "        val_acc_log.append(\n",
    "            val_epoch_true_hits.sum()\n",
    "            / val_epoch_true_hits.size(0)\n",
    "            / val_dataloader.batch_size\n",
    "        )\n",
    "        clear_output()\n",
    "        plot_history(train_loss_log, val_loss_log, \"loss\")\n",
    "        plot_history(train_acc_log, val_acc_log, \"accuracy\")\n",
    "\n",
    "        print(\"Train loss:\", train_epoch_loss.mean().item())\n",
    "        print(\n",
    "            \"Train acc:\",\n",
    "            (\n",
    "                    train_epoch_true_hits.sum()\n",
    "                    / train_epoch_true_hits.size(0)\n",
    "                    / train_dataloader.batch_size\n",
    "            ).item(),\n",
    "        )\n",
    "        print(\"Val loss:\", val_epoch_loss.mean().item())\n",
    "        print(\n",
    "            \"Val acc:\",\n",
    "            (\n",
    "                    val_epoch_true_hits.sum()\n",
    "                    / val_epoch_true_hits.size(0)\n",
    "                    / val_dataloader.batch_size\n",
    "            ).item(),\n",
    "        )"
   ],
   "metadata": {
    "collapsed": false,
    "ExecuteTime": {
     "end_time": "2024-02-21T06:09:22.775079241Z",
     "start_time": "2024-02-21T06:09:22.773463277Z"
    }
   },
   "id": "c7011e06f1769f16",
   "execution_count": 20
  },
  {
   "cell_type": "code",
   "outputs": [],
   "source": [
    "\n",
    "conn_select = psycopg2.connect(\n",
    "    database=\"hse_medical\",\n",
    "    user='hse_medical',\n",
    "    password='123456',\n",
    "    host='127.0.0.1',\n",
    "    port='5450',\n",
    "    options=\"-c search_path=analyze_medical\"\n",
    ")\n",
    "\n",
    "conn_select.autocommit = True\n",
    "\n",
    "transform = transforms.ToTensor()\n",
    "\n",
    "def get_connection():\n",
    "    return conn_select"
   ],
   "metadata": {
    "collapsed": false,
    "ExecuteTime": {
     "end_time": "2024-02-21T06:09:23.198428512Z",
     "start_time": "2024-02-21T06:09:23.176414855Z"
    }
   },
   "id": "3e2db39709cf4a26",
   "execution_count": 21
  },
  {
   "cell_type": "code",
   "outputs": [
    {
     "name": "stdout",
     "output_type": "stream",
     "text": [
      "datatrain_size : 15588\n"
     ]
    }
   ],
   "source": [
    "\n",
    "cursor = conn_select.cursor()\n",
    "\n",
    "sql1 = f'''select \n",
    "    target,\n",
    "    image from medical_pictures_train;'''\n",
    "cursor.execute(sql1)\n",
    "data_postgres = cursor.fetchall()\n",
    "print(f\"datatrain_size : {len(data_postgres)}\")\n",
    "cursor.close()\n",
    "targets = []\n",
    "images = []\n",
    "for data in data_postgres:\n",
    "    targets.append(data[0])\n",
    "    image = Image.open(io.BytesIO(data[1]))\n",
    "    images.append(image)\n",
    "    \n",
    "\n",
    "data_train = CustomDataset(images, targets,transform=transformation)\n",
    "\n",
    "\n"
   ],
   "metadata": {
    "collapsed": false,
    "ExecuteTime": {
     "end_time": "2024-02-21T06:09:25.365605656Z",
     "start_time": "2024-02-21T06:09:23.611680521Z"
    }
   },
   "id": "454a4a065d893bb9",
   "execution_count": 22
  },
  {
   "cell_type": "code",
   "outputs": [],
   "source": [
    "cursor_test= conn_select.cursor()\n",
    "\n",
    "sql2 = f'''select \n",
    "    target,\n",
    "    image from medical_pictures_test;'''\n",
    "cursor_test.execute(sql2)\n",
    "data_postgres_test = cursor_test.fetchall()\n",
    "cursor_test.close()\n",
    "targets_test = []\n",
    "images_test = []\n",
    "\n",
    "\n",
    "for data in data_postgres_test:\n",
    "    targets_test.append(data[0])\n",
    "    bytes_io = io.BytesIO(data[1])\n",
    "    image_open = Image.open(bytes_io)\n",
    "    images_test.append(image_open)\n",
    "    \n",
    "    \n",
    "\n",
    "data_test = CustomDataset(images_test, targets_test,transform=base_transform)"
   ],
   "metadata": {
    "collapsed": false,
    "ExecuteTime": {
     "end_time": "2024-02-21T06:09:25.960888277Z",
     "start_time": "2024-02-21T06:09:25.366889612Z"
    }
   },
   "id": "e26b4d3cadc0418b",
   "execution_count": 23
  },
  {
   "cell_type": "code",
   "outputs": [],
   "source": [
    "train_dataloader = torch.utils.data.DataLoader(\n",
    "    data_train, batch_size=32, shuffle=True, num_workers=4\n",
    ")\n",
    "val_dataloader = torch.utils.data.DataLoader(\n",
    "    data_test, batch_size=32, shuffle=False, num_workers=4\n",
    ")\n",
    "\n"
   ],
   "metadata": {
    "collapsed": false,
    "ExecuteTime": {
     "end_time": "2024-02-21T06:09:26.036006173Z",
     "start_time": "2024-02-21T06:09:25.992007909Z"
    }
   },
   "id": "e4ae995aff804368",
   "execution_count": 24
  },
  {
   "cell_type": "code",
   "outputs": [],
   "source": [
    "\n",
    "class CustomCNN(nn.Module):\n",
    "    def __init__(self):\n",
    "        super(CustomCNN, self).__init__()\n",
    "        self.conv1 = nn.Conv2d(3, 32, 3, padding=1)\n",
    "        self.conv2 = nn.Conv2d(32, 64, 3, padding=1)\n",
    "        self.relu = nn.ReLU()\n",
    "        self.conv3 = nn.Conv2d(64, 128, 3, padding=1)\n",
    "        self.pool = nn.MaxPool2d(2, 2)\n",
    "        self.fc1 = nn.Linear(128 * 37 * 37, 512)\n",
    "        self.fc2 = nn.Linear(512, 23)\n",
    "\n",
    "    def forward(self, x):\n",
    "        x = self.pool(self.relu(self.conv1(x)))\n",
    "        x = self.pool(self.relu(self.conv2(x)))\n",
    "        x = self.pool(self.relu(self.conv3(x)))\n",
    "        x = x.view(-1, 128 * 37 * 37)\n",
    "        x = self.relu(self.fc1(x))\n",
    "        x = self.fc2(x)\n",
    "        return x\n",
    "\n",
    "model = CustomCNN()"
   ],
   "metadata": {
    "collapsed": false,
    "ExecuteTime": {
     "end_time": "2024-02-21T06:09:26.389814187Z",
     "start_time": "2024-02-21T06:09:26.035912734Z"
    }
   },
   "id": "7897d91b8664f639",
   "execution_count": 25
  },
  {
   "cell_type": "code",
   "outputs": [
    {
     "data": {
      "text/plain": "<Figure size 640x480 with 1 Axes>",
      "image/png": "[encoded data removed]"
     },
     "metadata": {},
     "output_type": "display_data"
    },
    {
     "data": {
      "text/plain": "<Figure size 640x480 with 1 Axes>",
      "image/png": "[encoded data removed]"
     },
     "metadata": {},
     "output_type": "display_data"
    },
    {
     "name": "stdout",
     "output_type": "stream",
     "text": [
      "Train loss: 0.04705530032515526\n",
      "Train acc: 0.5388063788414001\n",
      "Val loss: 0.0797385424375534\n",
      "Val acc: 0.3320932686328888\n"
     ]
    }
   ],
   "source": [
    "\n",
    "model.to(device)\n",
    "criterion = nn.CrossEntropyLoss()\n",
    "optimizer = optim.SGD(model.parameters(), lr=0.001, momentum=0.9)\n",
    "\n",
    "train(model=model,\n",
    "      criterion= criterion,\n",
    "      optimizer= optimizer,\n",
    "      train_dataloader= train_dataloader,val_dataloader= val_dataloader,n_epochs=20)"
   ],
   "metadata": {
    "collapsed": false
   },
   "id": "a7cbc06c9ca1b2bd",
   "execution_count": 26
  },
  {
   "cell_type": "code",
   "outputs": [],
   "source": [],
   "metadata": {
    "collapsed": false
   },
   "id": "91a6875da6b9ae2c",
   "execution_count": null
  }
 ],
 "metadata": {
  "kernelspec": {
   "display_name": "Python 3",
   "language": "python",
   "name": "python3"
  },
  "language_info": {
   "codemirror_mode": {
    "name": "ipython",
    "version": 2
   },
   "file_extension": ".py",
   "mimetype": "text/x-python",
   "name": "python",
   "nbconvert_exporter": "python",
   "pygments_lexer": "ipython2",
   "version": "2.7.6"
  }
 },
 "nbformat": 4,
 "nbformat_minor": 5
}
