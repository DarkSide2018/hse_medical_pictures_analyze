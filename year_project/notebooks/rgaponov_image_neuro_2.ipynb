{
 "cells": [
  {
   "cell_type": "code",
   "execution_count": 6,
   "id": "initial_id",
   "metadata": {
    "collapsed": true,
    "ExecuteTime": {
     "end_time": "2024-02-22T05:55:29.974350449Z",
     "start_time": "2024-02-22T05:55:29.931056254Z"
    }
   },
   "outputs": [],
   "source": [
    "import torch\n",
    "import torchvision\n",
    "import psycopg2\n",
    "import torchvision.transforms as transforms\n",
    "import torch.nn as nn\n",
    "from tqdm.auto import tqdm\n",
    "import io\n",
    "from PIL import Image\n",
    "\n",
    "from torch.utils.data import Dataset\n",
    "import torch.optim as optim\n",
    "import matplotlib.pyplot as plt\n",
    "import numpy as np"
   ]
  },
  {
   "cell_type": "code",
   "outputs": [],
   "source": [
    "torch.cuda.empty_cache()\n",
    "batch_size=32\n",
    "epochs=5\n",
    "#device = \"cuda\" if torch.cuda.is_available() else \"cpu\"\n",
    "device = \"cpu\""
   ],
   "metadata": {
    "collapsed": false,
    "ExecuteTime": {
     "end_time": "2024-02-22T05:55:30.422329448Z",
     "start_time": "2024-02-22T05:55:30.420495700Z"
    }
   },
   "id": "10f98555dd0f054c",
   "execution_count": 7
  },
  {
   "cell_type": "code",
   "outputs": [],
   "source": [
    "transformation = transforms.Compose(\n",
    "    [    \n",
    "        transforms.Resize((256, 256)),\n",
    "        transforms.RandomRotation(20),\n",
    "        transforms.ToTensor(),\n",
    "        transforms.Normalize((0.4914, 0.4822, 0.4465), (0.247, 0.243, 0.261)),\n",
    "    ]\n",
    ")\n",
    "\n",
    "base_transform = torchvision.transforms.Compose(\n",
    "    [\n",
    "        transforms.Resize((256, 256)),\n",
    "        transforms.ToTensor(),\n",
    "        transforms.Normalize((0.4914, 0.4822, 0.4465), (0.247, 0.243, 0.261)),\n",
    "    ]\n",
    ")"
   ],
   "metadata": {
    "collapsed": false,
    "ExecuteTime": {
     "end_time": "2024-02-22T05:55:30.958777923Z",
     "start_time": "2024-02-22T05:55:30.956556884Z"
    }
   },
   "id": "f47d85eacd3dd095",
   "execution_count": 8
  },
  {
   "cell_type": "code",
   "outputs": [],
   "source": [
    "\n",
    "class CustomDataset(Dataset):\n",
    "    def __init__(self, data, labels, transform=None):\n",
    "        self.data = data\n",
    "        self.labels = labels\n",
    "        self.transform = transform\n",
    "    def __getitem__(self, index):\n",
    "        img = self.data[index]\n",
    "        if self.transform:\n",
    "            img = self.transform(img)\n",
    "        label = self.labels[index]\n",
    "        return img, label\n",
    "\n",
    "    def __len__(self):\n",
    "        return len(self.data)"
   ],
   "metadata": {
    "collapsed": false,
    "ExecuteTime": {
     "end_time": "2024-02-22T05:55:31.612395767Z",
     "start_time": "2024-02-22T05:55:31.607647906Z"
    }
   },
   "id": "94f645d430221345",
   "execution_count": 9
  },
  {
   "cell_type": "code",
   "outputs": [],
   "source": [
    "\n",
    "conn_select = psycopg2.connect(\n",
    "    database=\"hse_medical\",\n",
    "    user='hse_medical',\n",
    "    password='123456',\n",
    "    host='127.0.0.1',\n",
    "    port='5450',\n",
    "    options=\"-c search_path=analyze_medical\"\n",
    ")\n",
    "\n",
    "conn_select.autocommit = True\n",
    "\n",
    "transform = transforms.ToTensor()\n",
    "\n",
    "def get_connection():\n",
    "    return conn_select"
   ],
   "metadata": {
    "collapsed": false,
    "ExecuteTime": {
     "end_time": "2024-02-22T05:55:32.146800499Z",
     "start_time": "2024-02-22T05:55:32.114984520Z"
    }
   },
   "id": "302475f7da46f1e",
   "execution_count": 10
  },
  {
   "cell_type": "code",
   "outputs": [
    {
     "name": "stdout",
     "output_type": "stream",
     "text": [
      "datatrain_size : 15588\n"
     ]
    }
   ],
   "source": [
    "\n",
    "\n",
    "cursor = conn_select.cursor()\n",
    "\n",
    "sql1 = f'''select \n",
    "    target,\n",
    "    image from medical_pictures_train;'''\n",
    "cursor.execute(sql1)\n",
    "data_postgres = cursor.fetchall()\n",
    "print(f\"datatrain_size : {len(data_postgres)}\")\n",
    "cursor.close()\n",
    "targets = []\n",
    "images = []\n",
    "for data in data_postgres:\n",
    "    targets.append(data[0])\n",
    "    image = Image.open(io.BytesIO(data[1]))\n",
    "    images.append(image)\n",
    "    \n",
    "\n",
    "data_train = CustomDataset(images, targets,transform=transformation)"
   ],
   "metadata": {
    "collapsed": false,
    "ExecuteTime": {
     "end_time": "2024-02-22T05:55:34.882391801Z",
     "start_time": "2024-02-22T05:55:32.755153043Z"
    }
   },
   "id": "d850980dd7ea11e6",
   "execution_count": 11
  },
  {
   "cell_type": "code",
   "outputs": [],
   "source": [
    "cursor_test= conn_select.cursor()\n",
    "\n",
    "sql2 = f'''select \n",
    "    target,\n",
    "    image from medical_pictures_test;'''\n",
    "cursor_test.execute(sql2)\n",
    "data_postgres_test = cursor_test.fetchall()\n",
    "cursor_test.close()\n",
    "targets_test = []\n",
    "images_test = []\n",
    "\n",
    "\n",
    "for data in data_postgres_test:\n",
    "    targets_test.append(data[0])\n",
    "    bytes_io = io.BytesIO(data[1])\n",
    "    image_open = Image.open(bytes_io)\n",
    "    images_test.append(image_open)\n",
    "    \n",
    "    \n",
    "\n",
    "data_test = CustomDataset(images_test, targets_test,transform=base_transform)"
   ],
   "metadata": {
    "collapsed": false,
    "ExecuteTime": {
     "end_time": "2024-02-22T05:55:35.666884418Z",
     "start_time": "2024-02-22T05:55:34.882287294Z"
    }
   },
   "id": "188c6df954fec89e",
   "execution_count": 12
  },
  {
   "cell_type": "code",
   "outputs": [],
   "source": [
    "train_dataloader = torch.utils.data.DataLoader(\n",
    "    data_train, batch_size=batch_size, shuffle=True, num_workers=4\n",
    ")\n",
    "val_dataloader = torch.utils.data.DataLoader(\n",
    "    data_test, batch_size=batch_size, shuffle=False, num_workers=4\n",
    ")"
   ],
   "metadata": {
    "collapsed": false,
    "ExecuteTime": {
     "end_time": "2024-02-22T05:55:35.875131005Z",
     "start_time": "2024-02-22T05:55:35.222840630Z"
    }
   },
   "id": "555f6e73231d7b73",
   "execution_count": 13
  },
  {
   "cell_type": "code",
   "outputs": [],
   "source": [
    "\n",
    "vgg19 = torchvision.models.vgg19(pretrained=True)\n",
    "\n",
    "vgg19.classifier[6] = nn.Linear(4096, 23)\n",
    "criterion = nn.CrossEntropyLoss()\n",
    "optimizer = optim.SGD(vgg19.parameters(), lr=0.001, momentum=0.9)\n"
   ],
   "metadata": {
    "collapsed": false
   },
   "id": "c577ab35e0c6ff42"
  },
  {
   "cell_type": "code",
   "outputs": [
    {
     "name": "stderr",
     "output_type": "stream",
     "text": [
      "/home/roman/.local/lib/python3.10/site-packages/torchvision/models/_utils.py:208: UserWarning: The parameter 'pretrained' is deprecated since 0.13 and may be removed in the future, please use 'weights' instead.\n",
      "  warnings.warn(\n",
      "/home/roman/.local/lib/python3.10/site-packages/torchvision/models/_utils.py:223: UserWarning: Arguments other than a weight enum or `None` for 'weights' are deprecated since 0.13 and may be removed in the future. The current behavior is equivalent to passing `weights=VGG19_Weights.IMAGENET1K_V1`. You can also use `weights=VGG19_Weights.DEFAULT` to get the most up-to-date weights.\n",
      "  warnings.warn(msg)\n",
      "Downloading: \"https://download.pytorch.org/models/vgg19-dcbb9e9d.pth\" to /home/roman/.cache/torch/hub/checkpoints/vgg19-dcbb9e9d.pth\n",
      "100%|██████████| 548M/548M [00:50<00:00, 11.4MB/s] \n"
     ]
    },
    {
     "data": {
      "text/plain": "  0%|          | 0/488 [00:00<?, ?it/s]",
      "application/vnd.jupyter.widget-view+json": {
       "version_major": 2,
       "version_minor": 0,
       "model_id": "986c1b3134f64a1385c5e8b999aeda2b"
      },
      "application/json": {
       "n": 0,
       "total": 488,
       "elapsed": 0.117462158203125,
       "ncols": null,
       "nrows": null,
       "prefix": "",
       "ascii": false,
       "unit": "it",
       "unit_scale": false,
       "rate": null,
       "bar_format": null,
       "postfix": null,
       "unit_divisor": 1000,
       "initial": 0,
       "colour": null
      }
     },
     "metadata": {},
     "output_type": "display_data"
    },
    {
     "name": "stdout",
     "output_type": "stream",
     "text": [
      "[1,   100] loss: 2.838\n",
      "[1,   200] loss: 2.543\n",
      "[1,   300] loss: 2.468\n",
      "[1,   400] loss: 2.366\n"
     ]
    },
    {
     "data": {
      "text/plain": "  0%|          | 0/488 [00:00<?, ?it/s]",
      "application/vnd.jupyter.widget-view+json": {
       "version_major": 2,
       "version_minor": 0,
       "model_id": "2c47e0980b3b4745ba2b755da62b1f8c"
      },
      "application/json": {
       "n": 0,
       "total": 488,
       "elapsed": 0.1419515609741211,
       "ncols": null,
       "nrows": null,
       "prefix": "",
       "ascii": false,
       "unit": "it",
       "unit_scale": false,
       "rate": null,
       "bar_format": null,
       "postfix": null,
       "unit_divisor": 1000,
       "initial": 0,
       "colour": null
      }
     },
     "metadata": {},
     "output_type": "display_data"
    },
    {
     "name": "stdout",
     "output_type": "stream",
     "text": [
      "[2,   100] loss: 2.248\n",
      "[2,   200] loss: 2.215\n",
      "[2,   300] loss: 2.158\n",
      "[2,   400] loss: 2.134\n"
     ]
    },
    {
     "data": {
      "text/plain": "  0%|          | 0/488 [00:00<?, ?it/s]",
      "application/vnd.jupyter.widget-view+json": {
       "version_major": 2,
       "version_minor": 0,
       "model_id": "e7b6002b19334c9aa8a5705a85ab7f54"
      },
      "application/json": {
       "n": 0,
       "total": 488,
       "elapsed": 0.1821305751800537,
       "ncols": null,
       "nrows": null,
       "prefix": "",
       "ascii": false,
       "unit": "it",
       "unit_scale": false,
       "rate": null,
       "bar_format": null,
       "postfix": null,
       "unit_divisor": 1000,
       "initial": 0,
       "colour": null
      }
     },
     "metadata": {},
     "output_type": "display_data"
    },
    {
     "name": "stdout",
     "output_type": "stream",
     "text": [
      "[3,   100] loss: 2.019\n",
      "[3,   200] loss: 1.971\n",
      "[3,   300] loss: 1.949\n",
      "[3,   400] loss: 1.967\n"
     ]
    },
    {
     "data": {
      "text/plain": "  0%|          | 0/488 [00:00<?, ?it/s]",
      "application/vnd.jupyter.widget-view+json": {
       "version_major": 2,
       "version_minor": 0,
       "model_id": "75f033206b664e668355fd1d5c7dd2ca"
      },
      "application/json": {
       "n": 0,
       "total": 488,
       "elapsed": 0.17253804206848145,
       "ncols": null,
       "nrows": null,
       "prefix": "",
       "ascii": false,
       "unit": "it",
       "unit_scale": false,
       "rate": null,
       "bar_format": null,
       "postfix": null,
       "unit_divisor": 1000,
       "initial": 0,
       "colour": null
      }
     },
     "metadata": {},
     "output_type": "display_data"
    },
    {
     "name": "stdout",
     "output_type": "stream",
     "text": [
      "[4,   100] loss: 1.811\n",
      "[4,   200] loss: 1.820\n",
      "[4,   300] loss: 1.840\n",
      "[4,   400] loss: 1.821\n"
     ]
    },
    {
     "data": {
      "text/plain": "  0%|          | 0/488 [00:00<?, ?it/s]",
      "application/vnd.jupyter.widget-view+json": {
       "version_major": 2,
       "version_minor": 0,
       "model_id": "d8756f32f2dc40d7bea2d5158ec219b0"
      },
      "application/json": {
       "n": 0,
       "total": 488,
       "elapsed": 0.1779932975769043,
       "ncols": null,
       "nrows": null,
       "prefix": "",
       "ascii": false,
       "unit": "it",
       "unit_scale": false,
       "rate": null,
       "bar_format": null,
       "postfix": null,
       "unit_divisor": 1000,
       "initial": 0,
       "colour": null
      }
     },
     "metadata": {},
     "output_type": "display_data"
    },
    {
     "name": "stdout",
     "output_type": "stream",
     "text": [
      "[5,   100] loss: 1.696\n",
      "[5,   200] loss: 1.628\n",
      "[5,   300] loss: 1.662\n",
      "[5,   400] loss: 1.690\n",
      "Finished Training\n"
     ]
    },
    {
     "data": {
      "text/plain": "  0%|          | 0/126 [00:00<?, ?it/s]",
      "application/vnd.jupyter.widget-view+json": {
       "version_major": 2,
       "version_minor": 0,
       "model_id": "6c118d1bc2424a538d07934ce6600188"
      },
      "application/json": {
       "n": 0,
       "total": 126,
       "elapsed": 0.15920066833496094,
       "ncols": null,
       "nrows": null,
       "prefix": "",
       "ascii": false,
       "unit": "it",
       "unit_scale": false,
       "rate": null,
       "bar_format": null,
       "postfix": null,
       "unit_divisor": 1000,
       "initial": 0,
       "colour": null
      }
     },
     "metadata": {},
     "output_type": "display_data"
    },
    {
     "name": "stdout",
     "output_type": "stream",
     "text": [
      "Accuracy of the network on the test images: 43 %\n"
     ]
    }
   ],
   "source": [
    "\n",
    "for epoch in range(epochs):  # loop over the dataset multiple times\n",
    "    running_loss = 0.0\n",
    "    for i, data in enumerate(tqdm(train_dataloader), 0):\n",
    "        inputs, labels = data\n",
    "        optimizer.zero_grad()\n",
    "        outputs = vgg19(inputs)\n",
    "        loss = criterion(outputs, labels)\n",
    "        loss.backward()\n",
    "        optimizer.step()\n",
    "        \n",
    "        running_loss += loss.item()\n",
    "        if i % 100 == 99:  # print and visualize every 100 mini-batches\n",
    "            print('[%d, %5d] loss: %.3f' %\n",
    "                  (epoch + 1, i + 1, running_loss / 100))\n",
    "            running_loss = 0.0\n",
    "            # Add code here to visualize the training process for each batch\n",
    "\n",
    "print('Finished Training')\n",
    "\n",
    "# Test the network and calculate testing accuracy\n",
    "correct = 0\n",
    "total = 0\n",
    "with torch.no_grad():\n",
    "    for data in tqdm(val_dataloader):\n",
    "        images, labels = data\n",
    "        outputs = vgg19(images)\n",
    "        _, predicted = torch.max(outputs, 1)\n",
    "        total += labels.size(0)\n",
    "        correct += (predicted == labels).sum().item()\n",
    "\n",
    "print('Accuracy of the network on the test images: %d %%' % (100 * correct / total))"
   ],
   "metadata": {
    "collapsed": false,
    "ExecuteTime": {
     "end_time": "2024-02-22T13:21:55.919393049Z",
     "start_time": "2024-02-22T05:55:35.875999475Z"
    }
   },
   "id": "b71851e349715e29",
   "execution_count": 14
  },
  {
   "cell_type": "code",
   "outputs": [],
   "source": [],
   "metadata": {
    "collapsed": false
   },
   "id": "d7d8d9c1c33f817"
  }
 ],
 "metadata": {
  "kernelspec": {
   "display_name": "Python 3",
   "language": "python",
   "name": "python3"
  },
  "language_info": {
   "codemirror_mode": {
    "name": "ipython",
    "version": 2
   },
   "file_extension": ".py",
   "mimetype": "text/x-python",
   "name": "python",
   "nbconvert_exporter": "python",
   "pygments_lexer": "ipython2",
   "version": "2.7.6"
  }
 },
 "nbformat": 4,
 "nbformat_minor": 5
}
