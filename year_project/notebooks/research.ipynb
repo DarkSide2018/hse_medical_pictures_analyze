{
 "cells": [
  {
   "cell_type": "code",
   "id": "initial_id",
   "metadata": {
    "collapsed": true,
    "ExecuteTime": {
     "end_time": "2024-06-02T21:03:06.906763Z",
     "start_time": "2024-06-02T21:03:06.901991Z"
    }
   },
   "source": [
    "import torch\n",
    "\n",
    "y_pred=torch.tensor([[4,5,6],[1,3,6]])\n",
    "y=torch.tensor([2,3])\n",
    "top_pred = y_pred.argmax(1, keepdim=True)\n",
    "print(top_pred,\"top_pred\")\n",
    "\n",
    "correct = top_pred.eq(y.view_as(top_pred)).sum()\n",
    "print(correct)"
   ],
   "outputs": [
    {
     "name": "stdout",
     "output_type": "stream",
     "text": [
      "tensor([[2],\n",
      "        [2]]) top_pred\n",
      "tensor(1)\n"
     ]
    }
   ],
   "execution_count": 5
  },
  {
   "metadata": {},
   "cell_type": "code",
   "outputs": [],
   "execution_count": null,
   "source": "",
   "id": "e46a11d13dfb582e"
  }
 ],
 "metadata": {
  "kernelspec": {
   "display_name": "Python 3",
   "language": "python",
   "name": "python3"
  },
  "language_info": {
   "codemirror_mode": {
    "name": "ipython",
    "version": 2
   },
   "file_extension": ".py",
   "mimetype": "text/x-python",
   "name": "python",
   "nbconvert_exporter": "python",
   "pygments_lexer": "ipython2",
   "version": "2.7.6"
  }
 },
 "nbformat": 4,
 "nbformat_minor": 5
}
