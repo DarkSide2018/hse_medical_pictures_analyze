{
 "cells": [
  {
   "cell_type": "markdown",
   "id": "752be228",
   "metadata": {
    "papermill": {
     "duration": 0.004893,
     "end_time": "2024-01-15T15:16:56.458082",
     "exception": false,
     "start_time": "2024-01-15T15:16:56.453189",
     "status": "completed"
    },
    "tags": []
   },
   "source": [
    "## Cлучайный лес"
   ]
  },
  {
   "cell_type": "code",
   "execution_count": 1,
   "id": "999f9d27",
   "metadata": {
    "execution": {
     "iopub.execute_input": "2024-01-15T15:16:56.469227Z",
     "iopub.status.busy": "2024-01-15T15:16:56.468605Z",
     "iopub.status.idle": "2024-01-15T15:17:05.219014Z",
     "shell.execute_reply": "2024-01-15T15:17:05.217571Z"
    },
    "papermill": {
     "duration": 8.760878,
     "end_time": "2024-01-15T15:17:05.223310",
     "exception": false,
     "start_time": "2024-01-15T15:16:56.462432",
     "status": "completed"
    },
    "tags": []
   },
   "outputs": [
    {
     "name": "stderr",
     "output_type": "stream",
     "text": [
      "/opt/conda/lib/python3.10/site-packages/torchvision/datapoints/__init__.py:12: UserWarning: The torchvision.datapoints and torchvision.transforms.v2 namespaces are still Beta. While we do not expect major breaking changes, some APIs may still change according to user feedback. Please submit any feedback you may have in this issue: https://github.com/pytorch/vision/issues/6753, and you can also check out https://github.com/pytorch/vision/issues/7319 to learn more about the APIs that we suspect might involve future changes. You can silence this warning by calling torchvision.disable_beta_transforms_warning().\n",
      "  warnings.warn(_BETA_TRANSFORMS_WARNING)\n",
      "/opt/conda/lib/python3.10/site-packages/torchvision/transforms/v2/__init__.py:54: UserWarning: The torchvision.datapoints and torchvision.transforms.v2 namespaces are still Beta. While we do not expect major breaking changes, some APIs may still change according to user feedback. Please submit any feedback you may have in this issue: https://github.com/pytorch/vision/issues/6753, and you can also check out https://github.com/pytorch/vision/issues/7319 to learn more about the APIs that we suspect might involve future changes. You can silence this warning by calling torchvision.disable_beta_transforms_warning().\n",
      "  warnings.warn(_BETA_TRANSFORMS_WARNING)\n"
     ]
    }
   ],
   "source": [
    "import os\n",
    "import numpy as np\n",
    "import pandas as pd\n",
    "\n",
    "from torchvision.transforms import v2\n",
    "from sklearn.decomposition import PCA\n",
    "from PIL import Image, ImageOps\n",
    "import albumentations as A"
   ]
  },
  {
   "cell_type": "markdown",
   "id": "225c9db1",
   "metadata": {
    "papermill": {
     "duration": 0.003785,
     "end_time": "2024-01-15T15:17:05.231574",
     "exception": false,
     "start_time": "2024-01-15T15:17:05.227789",
     "status": "completed"
    },
    "tags": []
   },
   "source": [
    "**Предобработка изображений**"
   ]
  },
  {
   "cell_type": "code",
   "execution_count": 2,
   "id": "e6488f06",
   "metadata": {
    "execution": {
     "iopub.execute_input": "2024-01-15T15:17:05.241893Z",
     "iopub.status.busy": "2024-01-15T15:17:05.241149Z",
     "iopub.status.idle": "2024-01-15T16:05:49.014146Z",
     "shell.execute_reply": "2024-01-15T16:05:49.012723Z"
    },
    "papermill": {
     "duration": 2923.782227,
     "end_time": "2024-01-15T16:05:49.017775",
     "exception": false,
     "start_time": "2024-01-15T15:17:05.235548",
     "status": "completed"
    },
    "tags": []
   },
   "outputs": [
    {
     "name": "stdout",
     "output_type": "stream",
     "text": [
      "0: Light Diseases and Disorders of Pigmentation\n",
      "1: Lupus and other Connective Tissue diseases\n",
      "2: Acne and Rosacea Photos\n",
      "3: Systemic Disease\n",
      "4: Poison Ivy Photos and other Contact Dermatitis\n",
      "5: Vascular Tumors\n",
      "6: Urticaria Hives\n",
      "7: Atopic Dermatitis Photos\n",
      "8: Bullous Disease Photos\n",
      "9: Hair Loss Photos Alopecia and other Hair Diseases\n",
      "10: Tinea Ringworm Candidiasis and other Fungal Infections\n",
      "11: Psoriasis pictures Lichen Planus and related diseases\n",
      "12: Melanoma Skin Cancer Nevi and Moles\n",
      "13: Nail Fungus and other Nail Disease\n",
      "14: Scabies Lyme Disease and other Infestations and Bites\n",
      "15: Eczema Photos\n",
      "16: Exanthems and Drug Eruptions\n",
      "17: Herpes HPV and other STDs Photos\n",
      "18: Seborrheic Keratoses and other Benign Tumors\n",
      "19: Actinic Keratosis Basal Cell Carcinoma and other Malignant Lesions\n",
      "20: Vasculitis Photos\n",
      "21: Cellulitis Impetigo and other Bacterial Infections\n",
      "22: Warts Molluscum and other Viral Infections\n",
      "0: Light Diseases and Disorders of Pigmentation\n",
      "1: Lupus and other Connective Tissue diseases\n",
      "2: Acne and Rosacea Photos\n",
      "3: Systemic Disease\n",
      "4: Poison Ivy Photos and other Contact Dermatitis\n",
      "5: Vascular Tumors\n",
      "6: Urticaria Hives\n",
      "7: Atopic Dermatitis Photos\n",
      "8: Bullous Disease Photos\n",
      "9: Hair Loss Photos Alopecia and other Hair Diseases\n",
      "10: Tinea Ringworm Candidiasis and other Fungal Infections\n",
      "11: Psoriasis pictures Lichen Planus and related diseases\n",
      "12: Melanoma Skin Cancer Nevi and Moles\n",
      "13: Nail Fungus and other Nail Disease\n",
      "14: Scabies Lyme Disease and other Infestations and Bites\n",
      "15: Eczema Photos\n",
      "16: Exanthems and Drug Eruptions\n",
      "17: Herpes HPV and other STDs Photos\n",
      "18: Seborrheic Keratoses and other Benign Tumors\n",
      "19: Actinic Keratosis Basal Cell Carcinoma and other Malignant Lesions\n",
      "20: Vasculitis Photos\n",
      "21: Cellulitis Impetigo and other Bacterial Infections\n",
      "22: Warts Molluscum and other Viral Infections\n"
     ]
    }
   ],
   "source": [
    "def load_images(data='train', pca_components=100):\n",
    "    path = f\"../input/dermnet/{data}/\"\n",
    "    list_cat = os.listdir(path)\n",
    "    \n",
    "    X, y = ([], [])\n",
    "    \n",
    "    transform = A.Compose([\n",
    "    A.Rotate(limit=180, border_mode=0, p=1.0),\n",
    "    A.GaussNoise(var_limit=(10, 30), p=0.5), \n",
    "    A.RandomBrightnessContrast(brightness_limit=0.25, p=0.25)\n",
    "    ])\n",
    "    \n",
    "    for i, cat in enumerate(list_cat):  \n",
    "        print(f'{i}: {cat}')\n",
    "        list_images = os.listdir(path + cat)\n",
    "        \n",
    "        for j in list_images:   \n",
    "            with Image.open(path + cat + \"/\" + j) as img:\n",
    "                # приводим изображения к чёрно-белому формату и одному размеру\n",
    "                img = np.array(v2.Resize(size=(256, 256))(ImageOps.grayscale(img)))\n",
    "                \n",
    "                for p in range(3): \n",
    "                    # применяем аугментации 4 раза \n",
    "                    if p:\n",
    "                        img = transform(image=img)[\"image\"]\n",
    "                    \n",
    "                    # применяем PCA с pca_components главными компонентами\n",
    "                    pca = PCA(pca_components)\n",
    "                    img_pca = pca.fit_transform(img)\n",
    "                \n",
    "                    # вытягиваем в одномерный массив и добавляем в матрицу объекты-признаки\n",
    "                    X.append(img_pca.flatten())\n",
    "                    y.append(i)\n",
    "    \n",
    "    return np.array(X), np.array(y)\n",
    "\n",
    "\n",
    "X_train, y_train = load_images(data='train', pca_components=75)\n",
    "X_test, y_test = load_images(data='test', pca_components=75)"
   ]
  },
  {
   "cell_type": "markdown",
   "id": "a5cdd7c7",
   "metadata": {
    "papermill": {
     "duration": 0.008655,
     "end_time": "2024-01-15T16:05:49.035566",
     "exception": false,
     "start_time": "2024-01-15T16:05:49.026911",
     "status": "completed"
    },
    "tags": []
   },
   "source": [
    "**Обучение моделей**"
   ]
  },
  {
   "cell_type": "code",
   "execution_count": 3,
   "id": "34f433e2",
   "metadata": {
    "execution": {
     "iopub.execute_input": "2024-01-15T16:05:49.057245Z",
     "iopub.status.busy": "2024-01-15T16:05:49.055781Z",
     "iopub.status.idle": "2024-01-15T16:36:52.115485Z",
     "shell.execute_reply": "2024-01-15T16:36:52.113865Z"
    },
    "papermill": {
     "duration": 1863.081731,
     "end_time": "2024-01-15T16:36:52.126612",
     "exception": false,
     "start_time": "2024-01-15T16:05:49.044881",
     "status": "completed"
    },
    "tags": []
   },
   "outputs": [
    {
     "name": "stdout",
     "output_type": "stream",
     "text": [
      "Fitting of RandomForestClassifier has started...\n",
      "Fitting of RandomForestClassifier has finished!\n"
     ]
    }
   ],
   "source": [
    "from sklearn.ensemble import RandomForestClassifier\n",
    "\n",
    "# обучение модели\n",
    "rf_clf = RandomForestClassifier(min_samples_leaf=5, random_state=123)\n",
    "print(f'Fitting of RandomForestClassifier has started...')\n",
    "rf_clf.fit(X_train, y_train)\n",
    "print(f'Fitting of RandomForestClassifier has finished!')"
   ]
  },
  {
   "cell_type": "code",
   "execution_count": 4,
   "id": "e4151f26",
   "metadata": {
    "execution": {
     "iopub.execute_input": "2024-01-15T16:36:52.146219Z",
     "iopub.status.busy": "2024-01-15T16:36:52.145655Z",
     "iopub.status.idle": "2024-01-15T16:37:29.963898Z",
     "shell.execute_reply": "2024-01-15T16:37:29.961078Z"
    },
    "papermill": {
     "duration": 37.834982,
     "end_time": "2024-01-15T16:37:29.970201",
     "exception": false,
     "start_time": "2024-01-15T16:36:52.135219",
     "status": "completed"
    },
    "tags": []
   },
   "outputs": [],
   "source": [
    "# предикты\n",
    "y_pred_test = rf_clf.predict(X_test)\n",
    "y_pred_proba_test = rf_clf.predict_proba(X_test)"
   ]
  },
  {
   "cell_type": "code",
   "execution_count": 6,
   "id": "429cb638",
   "metadata": {
    "execution": {
     "iopub.execute_input": "2024-01-15T16:37:30.505141Z",
     "iopub.status.busy": "2024-01-15T16:37:30.504635Z",
     "iopub.status.idle": "2024-01-15T16:37:30.611723Z",
     "shell.execute_reply": "2024-01-15T16:37:30.610553Z"
    },
    "papermill": {
     "duration": 0.120834,
     "end_time": "2024-01-15T16:37:30.614516",
     "exception": false,
     "start_time": "2024-01-15T16:37:30.493682",
     "status": "completed"
    },
    "tags": []
   },
   "outputs": [
    {
     "name": "stdout",
     "output_type": "stream",
     "text": [
      "Metrics of RandomForest on test: \n",
      "   accuracy_avg  - 0.15\n",
      "   precision_avg - 0.15\n",
      "   reсall_avg    - 0.15\n",
      "   roc_auc_avg   - 0.70\n"
     ]
    }
   ],
   "source": [
    "# результаты на тесте\n",
    "print(f'Metrics of RandomForest on test: ')\n",
    "print(f'   accuracy_avg  - {accuracy_score(y_test, y_pred_test):.2f}')\n",
    "print(f'   precision_avg - {precision_score(y_test, y_pred_test, average=\"micro\"):.2f}')\n",
    "print(f'   reсall_avg    - {recall_score(y_test, y_pred_test, average=\"micro\"):.2f}')\n",
    "print(f'   roc_auc_avg   - {roc_auc_score(y_test, y_pred_proba_test, multi_class=\"ovr\", average=\"micro\"):.2f}')"
   ]
  },
  {
   "cell_type": "code",
   "execution_count": 7,
   "id": "6d8deb46",
   "metadata": {
    "execution": {
     "iopub.execute_input": "2024-01-15T16:37:30.635778Z",
     "iopub.status.busy": "2024-01-15T16:37:30.635011Z",
     "iopub.status.idle": "2024-01-15T16:37:31.287807Z",
     "shell.execute_reply": "2024-01-15T16:37:31.286545Z"
    },
    "papermill": {
     "duration": 0.6666,
     "end_time": "2024-01-15T16:37:31.290415",
     "exception": false,
     "start_time": "2024-01-15T16:37:30.623815",
     "status": "completed"
    },
    "tags": []
   },
   "outputs": [
    {
     "name": "stdout",
     "output_type": "stream",
     "text": [
      "\n",
      "Model is dumped!\n"
     ]
    }
   ],
   "source": [
    "import pickle \n",
    "\n",
    "# сохраняем модель в pickle файл\n",
    "pickle.dump(rf_clf, open('/kaggle/working/RF_model.pkl', 'wb'))\n",
    "print(f'\\nModel is dumped!')"
   ]
  }
 ],
 "metadata": {
  "kaggle": {
   "accelerator": "none",
   "dataSources": [
    {
     "datasetId": 735911,
     "sourceId": 1276317,
     "sourceType": "datasetVersion"
    }
   ],
   "dockerImageVersionId": 30615,
   "isGpuEnabled": false,
   "isInternetEnabled": true,
   "language": "python",
   "sourceType": "notebook"
  },
  "kernelspec": {
   "display_name": "Python 3 (ipykernel)",
   "language": "python",
   "name": "python3"
  },
  "language_info": {
   "codemirror_mode": {
    "name": "ipython",
    "version": 3
   },
   "file_extension": ".py",
   "mimetype": "text/x-python",
   "name": "python",
   "nbconvert_exporter": "python",
   "pygments_lexer": "ipython3",
   "version": "3.11.5"
  },
  "papermill": {
   "default_parameters": {},
   "duration": 4842.004725,
   "end_time": "2024-01-15T16:37:34.257869",
   "environment_variables": {},
   "exception": null,
   "input_path": "__notebook__.ipynb",
   "output_path": "__notebook__.ipynb",
   "parameters": {},
   "start_time": "2024-01-15T15:16:52.253144",
   "version": "2.4.0"
  }
 },
 "nbformat": 4,
 "nbformat_minor": 5
}
